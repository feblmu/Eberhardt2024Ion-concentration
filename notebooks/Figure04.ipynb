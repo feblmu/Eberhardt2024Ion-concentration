{
 "cells": [
  {
   "cell_type": "code",
   "execution_count": 1,
   "id": "d83c9f9d-4d94-4d32-9803-e539121123c3",
   "metadata": {},
   "outputs": [
    {
     "data": {
      "text/plain": [
       "<module 'plot' from '/home/work/Projects/spineCableSimulation/code/notebooks/./../spineSimulator/plot.py'>"
      ]
     },
     "execution_count": 1,
     "metadata": {},
     "output_type": "execute_result"
    }
   ],
   "source": [
    "import matplotlib.pyplot as plt\n",
    "import numpy as np\n",
    "\n",
    "from sys import path\n",
    "path.append('./../spineSimulator/')\n",
    "import plot\n",
    "from simulation_parameters import simulation_parameters\n",
    "\n",
    "from importlib import reload\n",
    "reload(plot)"
   ]
  },
  {
   "cell_type": "code",
   "execution_count": 2,
   "id": "f4f288e4-808c-44c3-83f5-cea26c97a4fa",
   "metadata": {},
   "outputs": [],
   "source": [
    "# text rendering with LaTex\n",
    "plt.rc('text', usetex=True)\n",
    "plt.rc('font', family='sans')"
   ]
  },
  {
   "cell_type": "code",
   "execution_count": 3,
   "id": "fd9769c7-35d9-4a53-a59e-514cbaadf0b5",
   "metadata": {},
   "outputs": [],
   "source": [
    "(\n",
    "    x,\n",
    "    a,\n",
    "    t,\n",
    "    phi5,\n",
    "    c_Na,\n",
    "    c_K,\n",
    "    c_Cl,\n",
    "    param_set,\n",
    "    params,\n",
    "    dx,\n",
    "    dt,\n",
    "    r_Na,\n",
    "    R_Na,\n",
    "    g_Na_ij,\n",
    "    r_K,\n",
    "    R_K,\n",
    "    g_K_ij,\n",
    "    r_Cl,\n",
    "    R_Cl,\n",
    "    g_Cl_ij,\n",
    "    r_e,\n",
    "    R_e,\n",
    "    g_ij,\n",
    "    i_c_Na,\n",
    "    i_c_K,\n",
    "    i_c_Cl,\n",
    "    i_e_Na,\n",
    "    i_e_K,\n",
    "    i_e_Cl,\n",
    "    i_e,\n",
    "    i_c,\n",
    "    i_total,\n",
    "    ) = plot.get_results_summary('experiment_9')\n",
    "\n",
    "\n",
    "(\n",
    "    x,\n",
    "    a,\n",
    "    t,\n",
    "    phi6,\n",
    "    c_Na,\n",
    "    c_K,\n",
    "    c_Cl,\n",
    "    param_set,\n",
    "    params,\n",
    "    dx,\n",
    "    dt,\n",
    "    r_Na,\n",
    "    R_Na,\n",
    "    g_Na_ij,\n",
    "    r_K,\n",
    "    R_K,\n",
    "    g_K_ij,\n",
    "    r_Cl,\n",
    "    R_Cl,\n",
    "    g_Cl_ij,\n",
    "    r_e,\n",
    "    R_e,\n",
    "    g_ij,\n",
    "    i_c_Na,\n",
    "    i_c_K,\n",
    "    i_c_Cl,\n",
    "    i_e_Na,\n",
    "    i_e_K,\n",
    "    i_e_Cl,\n",
    "    i_e,\n",
    "    i_c,\n",
    "    i_total,\n",
    "    ) = plot.get_results_summary('experiment_10')"
   ]
  },
  {
   "cell_type": "markdown",
   "id": "4242dbf3-6d34-4d88-8582-0b3fd0188297",
   "metadata": {},
   "source": [
    "# Figure 04\n",
    "compare depolarisation for different time courses of spine current input and dendrite depolarisation."
   ]
  },
  {
   "cell_type": "code",
   "execution_count": 4,
   "id": "bcc5f672-ddf4-416a-aa20-a13abadb94b9",
   "metadata": {},
   "outputs": [],
   "source": [
    "def get_normalized_NMDAR_conductance(a,b):\n",
    "    \n",
    "    def g(v):\n",
    "        return 1. / (1. + a * np.exp(b*v))\n",
    "    return g"
   ]
  },
  {
   "cell_type": "code",
   "execution_count": 5,
   "id": "7d923556-d8ce-4356-84c1-95615b39cf78",
   "metadata": {},
   "outputs": [],
   "source": [
    "g_NMDAR_CA1 = get_normalized_NMDAR_conductance(a=0.073, b=-0.074)"
   ]
  },
  {
   "cell_type": "code",
   "execution_count": 6,
   "id": "4e54c024-08e6-4b61-8b87-8f4bc26f6ca5",
   "metadata": {},
   "outputs": [],
   "source": [
    "v = np.linspace(-100, 0,1000)\n",
    "g = g_NMDAR_CA1(v)"
   ]
  },
  {
   "cell_type": "code",
   "execution_count": 7,
   "id": "edcd0636-a0a0-4cd3-a131-8fa4083e5973",
   "metadata": {},
   "outputs": [
    {
     "data": {
      "text/plain": [
       "[<matplotlib.lines.Line2D at 0x7f1842bbc5b0>]"
      ]
     },
     "execution_count": 7,
     "metadata": {},
     "output_type": "execute_result"
    },
    {
     "data": {
      "image/png": "[encoded data removed]",
      "text/plain": [
       "<Figure size 432x288 with 1 Axes>"
      ]
     },
     "metadata": {
      "needs_background": "light"
     },
     "output_type": "display_data"
    }
   ],
   "source": [
    "plt.plot(v,g*v)"
   ]
  },
  {
   "cell_type": "code",
   "execution_count": 8,
   "id": "a00d75ee-121b-4462-989a-4ad36ee0548b",
   "metadata": {},
   "outputs": [],
   "source": [
    "phi5 = phi5[:,0] * 1.e3\n",
    "phi6 = phi6[:,0] * 1.e3"
   ]
  },
  {
   "cell_type": "code",
   "execution_count": 9,
   "id": "12de8f00-2d24-4912-9b91-b7e15828d07f",
   "metadata": {},
   "outputs": [
    {
     "data": {
      "text/plain": [
       "[<matplotlib.lines.Line2D at 0x7f1842336ac0>]"
      ]
     },
     "execution_count": 9,
     "metadata": {},
     "output_type": "execute_result"
    },
    {
     "data": {
      "image/png": "[encoded data removed]",
      "text/plain": [
       "<Figure size 432x288 with 1 Axes>"
      ]
     },
     "metadata": {
      "needs_background": "light"
     },
     "output_type": "display_data"
    }
   ],
   "source": [
    "plt.plot(phi5,'r')\n",
    "plt.plot(phi6)"
   ]
  },
  {
   "cell_type": "code",
   "execution_count": 10,
   "id": "d9d2dc68-3153-41b9-bcad-7a8f628d301a",
   "metadata": {},
   "outputs": [
    {
     "data": {
      "text/plain": [
       "[<matplotlib.lines.Line2D at 0x7f18422a0be0>]"
      ]
     },
     "execution_count": 10,
     "metadata": {},
     "output_type": "execute_result"
    },
    {
     "data": {
      "image/png": "[encoded data removed]",
      "text/plain": [
       "<Figure size 432x288 with 1 Axes>"
      ]
     },
     "metadata": {
      "needs_background": "light"
     },
     "output_type": "display_data"
    }
   ],
   "source": [
    "plt.plot(g_NMDAR_CA1(phi5),'r')\n",
    "plt.plot(g_NMDAR_CA1(phi6))"
   ]
  },
  {
   "cell_type": "code",
   "execution_count": 11,
   "id": "63e7f5cc-e9c4-4f23-b46c-5c2404a7a5d5",
   "metadata": {},
   "outputs": [
    {
     "data": {
      "text/plain": [
       "[<matplotlib.lines.Line2D at 0x7f18422226a0>]"
      ]
     },
     "execution_count": 11,
     "metadata": {},
     "output_type": "execute_result"
    },
    {
     "data": {
      "image/png": "[encoded data removed]",
      "text/plain": [
       "<Figure size 432x288 with 1 Axes>"
      ]
     },
     "metadata": {
      "needs_background": "light"
     },
     "output_type": "display_data"
    }
   ],
   "source": [
    "plt.plot(g_NMDAR_CA1(phi5)*phi5,'r')\n",
    "plt.plot(g_NMDAR_CA1(phi6)*phi6)"
   ]
  },
  {
   "cell_type": "code",
   "execution_count": 12,
   "id": "bf2d1891-1cb0-49a6-9b56-752b06a7698a",
   "metadata": {},
   "outputs": [
    {
     "data": {
      "text/plain": [
       "-3368.7444766773183"
      ]
     },
     "execution_count": 12,
     "metadata": {},
     "output_type": "execute_result"
    }
   ],
   "source": [
    "np.sum(phi5 * g_NMDAR_CA1(phi5)) "
   ]
  },
  {
   "cell_type": "code",
   "execution_count": 13,
   "id": "a6e4a29f-3271-4a1e-b7b0-d052863d0c0c",
   "metadata": {},
   "outputs": [
    {
     "data": {
      "text/plain": [
       "-3247.075622401591"
      ]
     },
     "execution_count": 13,
     "metadata": {},
     "output_type": "execute_result"
    }
   ],
   "source": [
    "np.sum(phi6 * g_NMDAR_CA1(phi6)) "
   ]
  },
  {
   "cell_type": "code",
   "execution_count": 15,
   "id": "4bf3dd85-e120-4490-aea3-2fe074e14427",
   "metadata": {},
   "outputs": [
    {
     "data": {
      "text/plain": [
       "0.006469573202446161"
      ]
     },
     "execution_count": 15,
     "metadata": {},
     "output_type": "execute_result"
    }
   ],
   "source": [
    "D_Na = 0.65\n",
    "D_K = 1.\n",
    "const_k_B = 1.381e-23  # Boltzmann constant [k_B] = m^2 kg s^-2 K^-1\n",
    "const_e = 1.602e-19  #\n",
    "phi_T = const_k_B * 310. / const_e\n",
    "phi_T * np.log((D_Na*10+D_K*140)/(D_Na*100+D_K*50))"
   ]
  },
  {
   "cell_type": "markdown",
   "id": "7e434058-4b0b-4ca9-bc38-955b33dd100b",
   "metadata": {},
   "source": [
    "# TODO\n",
    "Test for three parameters: R_neck, V_head, I_inj\n",
    "    \n",
    "    increased R_neck (a_neck): increases decay time constant, increases head depol\n",
    "    increased V_head (a_head): decreases concentration changes\n",
    "    increased I_inj (g_syn): increases concentration changes\n",
    "    \n",
    "Tip: set bAP volatage comparable to EPSP voltage otherwise i_NMDA will be mainly set by bAP-depol\n",
    "\n",
    "    a_neck = {15,25,35,45,55}\n",
    "    a_head = {150,250,350,450}\n",
    "    g_syn = {10,20,25,30,40,50}"
   ]
  },
  {
   "cell_type": "code",
   "execution_count": 77,
   "id": "8bfb962a-2b6f-4697-b1b4-4b690b2efc87",
   "metadata": {},
   "outputs": [
    {
     "data": {
      "text/plain": [
       "120"
      ]
     },
     "execution_count": 77,
     "metadata": {},
     "output_type": "execute_result"
    }
   ],
   "source": [
    "6*4*5"
   ]
  },
  {
   "cell_type": "code",
   "execution_count": null,
   "id": "a5fe11b2-e45f-4cd0-bf9c-9bd35263f0fd",
   "metadata": {},
   "outputs": [],
   "source": []
  }
 ],
 "metadata": {
  "kernelspec": {
   "display_name": "Python 3 (ipykernel)",
   "language": "python",
   "name": "python3"
  },
  "language_info": {
   "codemirror_mode": {
    "name": "ipython",
    "version": 3
   },
   "file_extension": ".py",
   "mimetype": "text/x-python",
   "name": "python",
   "nbconvert_exporter": "python",
   "pygments_lexer": "ipython3",
   "version": "3.9.7"
  }
 },
 "nbformat": 4,
 "nbformat_minor": 5
}
