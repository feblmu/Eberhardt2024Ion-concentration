{
 "cells": [
  {
   "cell_type": "code",
   "execution_count": null,
   "id": "3046e6ab",
   "metadata": {},
   "outputs": [],
   "source": [
    "from sys import path\n",
    "path.append('./../spineSimulator/')\n",
    "import plot\n",
    "from importlib import reload\n",
    "reload(plot)"
   ]
  },
  {
   "cell_type": "code",
   "execution_count": null,
   "id": "bef08c67",
   "metadata": {},
   "outputs": [],
   "source": [
    "import dbm.dumb as dbm\n",
    "import numpy as np\n",
    "import matplotlib.pyplot as plt\n",
    "\n",
    "from constants import parameter_sets"
   ]
  },
  {
   "cell_type": "markdown",
   "id": "5e9cdba4",
   "metadata": {},
   "source": [
    "# Check conservation of total charge"
   ]
  },
  {
   "cell_type": "code",
   "execution_count": null,
   "id": "f6fe6e0d",
   "metadata": {},
   "outputs": [],
   "source": [
    "reload(plot)\n",
    "fig = plt.figure()\n",
    "pos = [0,0,1,1]\n",
    "plot.ax_electroneutrality_head(fig, pos, 'experiment_1')"
   ]
  },
  {
   "cell_type": "code",
   "execution_count": null,
   "id": "5dabdaed",
   "metadata": {},
   "outputs": [],
   "source": [
    "reload(plot)\n",
    "fig = plt.figure()\n",
    "pos = [0,0,1,1]\n",
    "plot.ax_electroneutrality_main_axis(fig, pos, 'experiment_1', 1)\n"
   ]
  },
  {
   "cell_type": "markdown",
   "id": "01e576ac",
   "metadata": {},
   "source": [
    "# Load Results"
   ]
  },
  {
   "cell_type": "code",
   "execution_count": null,
   "id": "337d92b0-e1e3-4ed4-bd47-18dc2e91a1a1",
   "metadata": {},
   "outputs": [],
   "source": []
  },
  {
   "cell_type": "code",
   "execution_count": null,
   "id": "e68cd95a-8c47-4426-ae32-416fdb2b41c4",
   "metadata": {},
   "outputs": [],
   "source": [
    "(\n",
    "    x,\n",
    "    a,\n",
    "    t,\n",
    "    phi,\n",
    "    c_Na,\n",
    "    c_K,\n",
    "    c_Cl,\n",
    "    param_set,\n",
    "    params,\n",
    "    dx,\n",
    "    dt,\n",
    "    r_Na,\n",
    "    R_Na,\n",
    "    g_Na_ij,\n",
    "    r_K,\n",
    "    R_K,\n",
    "    g_K_ij,\n",
    "    r_Cl,\n",
    "    R_Cl,\n",
    "    g_Cl_ij,\n",
    "    r_e,\n",
    "    R_e,\n",
    "    g_ij,\n",
    "    i_c_Na,\n",
    "    i_c_K,\n",
    "    i_c_Cl,\n",
    "    i_e_Na,\n",
    "    i_e_K,\n",
    "    i_e_Cl,\n",
    "    i_e,\n",
    "    i_c,\n",
    "    i_total,\n",
    "    ) = plot.get_results_summary('experiment_53')\n"
   ]
  },
  {
   "cell_type": "markdown",
   "id": "c4816805",
   "metadata": {},
   "source": [
    "# Cumulative resistance"
   ]
  },
  {
   "cell_type": "code",
   "execution_count": null,
   "id": "edf61894",
   "metadata": {},
   "outputs": [],
   "source": [
    "\n",
    "cum_R = np.cumsum(1./g_ij, axis=1)\n",
    "cum_R2 = np.cumsum(R_e, axis=1)\n",
    "\n",
    "\n",
    "import copy\n",
    "i = copy.copy(i_e)\n",
    "i[:,0] = i[:,1]\n",
    "cum_R3 = np.cumsum(-(phi[:,1:]-phi[:,:-1])/ i, axis=1)"
   ]
  },
  {
   "cell_type": "code",
   "execution_count": null,
   "id": "b07cdb52",
   "metadata": {},
   "outputs": [],
   "source": [
    "t_i= 199\n",
    "fig = plt.figure()\n",
    "pos = [0,0,1,1]\n",
    "\n",
    "def ax_cumulative_resistance(fig, pos):\n",
    "    ax = fig.add_axes(pos)\n",
    "    ax.plot((x[1:]+x[:-1])/2.,cum_R[t_i, :],'rx-')\n",
    "    ax.plot(x,cum_R2[t_i, :],'kx-')\n",
    "    ax.plot((x[1:]+x[:-1])/2.,cum_R3[t_i, :],'yx-')\n",
    "    ax.set_xlabel('x [m]')\n",
    "    #print(ax.get_yticks())\n",
    "    ax.set_yticklabels((tick / 1.e6 for tick in ax.get_yticks()))\n",
    "    ax.set_ylabel(r'$M\\Omega$')\n",
    "    #ax.legend()\n",
    "    print(cum_R2[t_i, -1]/1.e6, 'MOhm')\n",
    "    \n",
    "    \n",
    "ax_cumulative_resistance(fig, pos)\n",
    "\n",
    "#t_i = 1\n",
    "#ax_cumulative_resistance(fig, pos)\n",
    "plt.plot()"
   ]
  },
  {
   "cell_type": "code",
   "execution_count": null,
   "id": "30fdbd41",
   "metadata": {},
   "outputs": [],
   "source": [
    "scale = 1.e6\n",
    "scale_t = 1000\n",
    "r_vs_t = []\n",
    "for i, t_i in enumerate(t):\n",
    "    # print(t_i)\n",
    "    r_tot = cum_R[i, -1]/scale\n",
    "    r_vs_t.append(r_tot)\n",
    "    \n",
    "fig = plt.figure(dpi=150, figsize=(4,3))\n",
    "ax = fig.add_axes([0,0,1,1])\n",
    "ax.plot(t*scale_t, r_vs_t/r_vs_t[0])\n",
    "    \n",
    "ax.set_ylim(0.8,1.05)\n",
    "ax.set_ylabel('neck resistance [%]')\n",
    "ax.set_xticks((0,5, 10, 15, 20))\n",
    "ax.set_xlabel('time [ms]')"
   ]
  },
  {
   "cell_type": "code",
   "execution_count": null,
   "id": "c9ff8979",
   "metadata": {},
   "outputs": [],
   "source": [
    "t_1 =10\n",
    "\n",
    "c_total = c_Na + c_K + c_Cl\n",
    "for t_i in range(0,400,10):\n",
    "\n",
    "    plt.plot(c_total[t_i, :])\n"
   ]
  },
  {
   "cell_type": "markdown",
   "id": "45058696",
   "metadata": {},
   "source": [
    "# Current along main axis"
   ]
  },
  {
   "cell_type": "code",
   "execution_count": null,
   "id": "7fc997d9",
   "metadata": {},
   "outputs": [],
   "source": [
    "t_i = 1\n",
    "\n",
    "#plt.plot(np.cumsum(R_Na[1:-1]))\n",
    "fig = plt.figure(figsize=(4,9), dpi=150)\n",
    "\n",
    "ax1 = fig.add_subplot(311)\n",
    "ax1.plot(i_c[t_i], 'kx-', label='total')\n",
    "ax1.plot(i_c_Na[t_i], 'rx-', label='sodium')\n",
    "ax1.plot(i_c_K[t_i], 'gx-', label='potassium')\n",
    "ax1.plot(i_c_Cl[t_i], 'bx-', label='chloride')\n",
    "\n",
    "ax1.legend()\n",
    "ax1.set_title('diffusive currents')\n",
    "\n",
    "ax2 = fig.add_subplot(312)\n",
    "\n",
    "ax2.set_title('electric currents')\n",
    "\n",
    "ax2.plot(i_e[t_i], 'kx-', label='total')\n",
    "ax2.plot(i_e_Na[t_i], 'rx-', label='sodium')\n",
    "ax2.plot(i_e_K[t_i], 'gx-', label='potassium')\n",
    "ax2.plot(i_e_Cl[t_i], 'bx-', label='chloride')\n",
    "ax2.legend()\n",
    "\n",
    "ax2.set_title('electric currents')\n",
    "\n",
    "ax3 = fig.add_subplot(313)\n",
    "ax3.plot(i_total[t_i], 'ko-', label='total')\n",
    "ax3.plot(i_e[t_i], 'bx-', label='electric')\n",
    "ax3.plot(i_c[t_i], 'gx-', label='diffusive')\n",
    "ax3.plot((i_c_Na+i_e_Na)[t_i], 'yx-', label='sodium')\n",
    "ax3.plot((i_c_K+i_e_K)[t_i], 'rx-', label='potassium')\n",
    "ax3.plot((i_c_Cl+i_e_Cl)[t_i], 'rx-', c='orange', label='chloride')\n",
    "\n",
    "ax3.set_title('absolute currents')\n",
    "ax3.set_xlabel('x [m]')\n",
    "ax3.set_ylabel(r'$\\Omega m$')\n",
    "ax3.legend()\n",
    "\n",
    "plt.tight_layout()\n",
    "plt.show()\n"
   ]
  },
  {
   "cell_type": "markdown",
   "id": "fe8465a3",
   "metadata": {},
   "source": [
    "# Current through neck vs. time"
   ]
  },
  {
   "cell_type": "code",
   "execution_count": null,
   "id": "957ccc8f",
   "metadata": {},
   "outputs": [],
   "source": [
    "x_i = 7\n",
    "\n",
    "#plt.plot(np.cumsum(R_Na[1:-1]))\n",
    "fig = plt.figure(figsize=(4,9), dpi=150)\n",
    "\n",
    "ax1 = fig.add_subplot(311)\n",
    "ax1.plot(i_c[:, x_i], 'k-', label='total')\n",
    "ax1.plot(i_c_Na[:, x_i], 'r-', label='sodium')\n",
    "ax1.plot(i_c_K[:, x_i], 'g-', label='potassium')\n",
    "ax1.plot(i_c_Cl[:, x_i], 'b-', label='chloride')\n",
    "\n",
    "ax1.legend()\n",
    "ax1.set_title('diffusive currents')\n",
    "\n",
    "ax2 = fig.add_subplot(312)\n",
    "\n",
    "ax2.set_title('electric currents')\n",
    "\n",
    "ax2.plot(i_e[:, x_i], 'k-', label='total')\n",
    "ax2.plot(i_e_Na[:, x_i], 'r-', label='sodium')\n",
    "ax2.plot(i_e_K[:, x_i], 'g-', label='potassium')\n",
    "ax2.plot(i_e_Cl[:, x_i], 'b-', label='chloride')\n",
    "ax2.legend()\n",
    "\n",
    "ax2.set_title('electric currents')\n",
    "\n",
    "ax3 = fig.add_subplot(313)\n",
    "ax3.plot(t,i_e[:, x_i], 'b-', label='electric')\n",
    "ax3.plot(t,i_c[:, x_i], 'g-', label='diffusive')\n",
    "ax3.plot(t,(i_c_Na+i_e_Na)[:, x_i], 'y-', label='sodium')\n",
    "ax3.plot(t,(i_c_K+i_e_K)[:, x_i], 'r-', label='potassium')\n",
    "ax3.plot(t,(i_c_Cl+i_e_Cl)[:, x_i], 'r-', c='orange', label='chloride')\n",
    "ax3.plot(t,i_total[:, x_i], 'k--', label='total')\n",
    "\n",
    "\n",
    "ax3.set_yticklabels([np.round(tick* 1.e12,2)  for tick in ax3.get_yticks() ])\n",
    "ax3.set_title('currents through neck')\n",
    "ax3.set_xlabel('t [s]')\n",
    "ax3.set_ylabel(r'current [pA]')\n",
    "ax3.legend(frameon=False)\n",
    "\n",
    "plt.tight_layout()\n",
    "plt.show()"
   ]
  },
  {
   "cell_type": "code",
   "execution_count": null,
   "id": "e6b19600-aa30-4999-93d3-d0e47adf8de3",
   "metadata": {},
   "outputs": [],
   "source": []
  },
  {
   "cell_type": "markdown",
   "id": "434819f5",
   "metadata": {},
   "source": [
    "# Charge"
   ]
  },
  {
   "cell_type": "code",
   "execution_count": null,
   "id": "77ee4036",
   "metadata": {},
   "outputs": [],
   "source": [
    "syn_current = i_total[:,0]\n",
    "syn_charge = np.cumsum(syn_current * dt)\n",
    "neck_curret = i_total[:,7]\n",
    "neck_charge = np.cumsum(neck_curret * dt)\n",
    "plt.plot(neck_charge, 'k-')\n",
    "plt.plot(syn_charge, 'y-')\n",
    "plt.show()"
   ]
  },
  {
   "cell_type": "code",
   "execution_count": null,
   "id": "63fc6482",
   "metadata": {},
   "outputs": [],
   "source": [
    "plot.figure_main_axes_overview('experiment_1')"
   ]
  },
  {
   "cell_type": "markdown",
   "id": "1e5ccc53",
   "metadata": {},
   "source": [
    "# Effect of Diffusion Constants for ions"
   ]
  },
  {
   "cell_type": "code",
   "execution_count": null,
   "id": "75535d6b",
   "metadata": {},
   "outputs": [],
   "source": [
    "for i in range(1,11):\n",
    "    plot.figure_head_overview('experiment_'+str(i))\n"
   ]
  },
  {
   "cell_type": "code",
   "execution_count": null,
   "id": "620424ea",
   "metadata": {},
   "outputs": [],
   "source": [
    "reload(plot)\n",
    "plot.figure_space_time_summary('experiment_55')"
   ]
  },
  {
   "cell_type": "markdown",
   "id": "33bd9a15",
   "metadata": {},
   "source": [
    "Spines can decouple electrical and chemical compartmentalization. Membrane voltage increases when input is active and drops immediately when input is shutdown again. Concentration changes last longer and do not affect the membrane potential because Na+ and K+ currents through neck compensate."
   ]
  },
  {
   "cell_type": "markdown",
   "id": "2c1acee5",
   "metadata": {},
   "source": [
    "# How strong can concentrations change for different parameters?\n"
   ]
  },
  {
   "cell_type": "code",
   "execution_count": null,
   "id": "d3e24a53",
   "metadata": {},
   "outputs": [],
   "source": []
  },
  {
   "cell_type": "markdown",
   "id": "0c4e0126",
   "metadata": {},
   "source": [
    "# What is the effect of different diffusion constants for Na+ and K+?"
   ]
  },
  {
   "cell_type": "markdown",
   "id": "d01494fa",
   "metadata": {},
   "source": [
    "## RESULTS\n",
    "- Dendritic depolarisations fully invade spine without changing ion-concentrations.\n",
    "- Input current to spines boosts depolarisation during bAPs\n",
    "- Sodium concentration gradient get significantly reduced during elongated or repeatedly depolarisation\n",
    "- changes of sodium concentraitions is limited (if driving force is concentration dependent)\n",
    "- asymmetric diffusion between Na and K cause depolaristaion due to diffusion. (maybe this adds to bAP depol?)\n",
    "- Dendritic depolarization and EPSP add up linearly\n",
    "\n",
    "## Discussion\n",
    "Case 1: EPSP first and then BAP\n",
    "Glutamate opens AMPA ion-channels. EPSP depolarizes spine head at full EPSP size. This will alter sodium concentraion but also unblock NMDA and allow Ca2+ influx. Then the BAP follows and will fully depolarize the spine head because it does not depend on concentration changes. This will again open NMDA and allow Ca2+ influx. Input currents will further depolarize spine head.\n",
    "\n",
    "Case 2: BAP first and then EPSP\n",
    "BAP enters spine head and opens voltage gated sodium channels. Sodium influx increases sodium concentration. However synaptic conductance is reduced because there is no glutamate. EPSP follows but is reduced in size because of alterd sodium concentration intracellular and extracellular (reduced driving force for sodium ions). This will reduce Ca2+ influx.\n",
    "\n",
    "This is not likely because during bAPs spine depol was similar to dendrite depol, which means that there was no or weak membrane current in spine head (Cornejo2022voltage)\n"
   ]
  },
  {
   "cell_type": "code",
   "execution_count": null,
   "id": "02205687",
   "metadata": {},
   "outputs": [],
   "source": [
    "def number_of_charges_vs_radius(fig, pos,):\n",
    "    \n",
    "    param_set = 'standard'\n",
    "    params = parameter_sets[param_set]\n",
    "    \n",
    "    N_A = params['const_N_A']\n",
    "    e = params['const_e']\n",
    "    factor = 1./e\n",
    "    \n",
    "    # volume charge density intracellular\n",
    "    total_charge_density = 300. * N_A\n",
    "    free_charge_density = 150. * N_A # mol/m^3 = mmol (1.e-3 mol/liter)\n",
    "    sodium_charge_density = 10 * N_A\n",
    "    membrane_potential= -0.07  # 70 mV\n",
    "\n",
    "    min_cell_radius = 50.e-9  # 50 nm\n",
    "    max_cell_radius = 500.e-9   # 1 \\mu m\n",
    "    radius = np.linspace(min_cell_radius, max_cell_radius, 100)    \n",
    "    surface_area = 4. * np.pi * np.square(radius)\n",
    "    volume = 4./3. * np.pi * np.power(radius, 3)\n",
    "    \n",
    "    # usually to estimate the number of uncompensated charges a simple capacitor model is used\n",
    "    specific_membrane_capacitance=1.e-2 # 1 muF / cm^2 = 0.01 F/m^2    \n",
    "    membrane_capacitance = specific_membrane_capacitance * surface_area\n",
    "    \n",
    "    total_number_of_ions = volume * total_charge_density \n",
    "    number_of_free_ions = volume * free_charge_density\n",
    "    number_of_sodium_ions = volume *sodium_charge_density\n",
    "    number_of_capacitor_ions = np.abs(membrane_capacitance * membrane_potential / e )    \n",
    "    #############################\n",
    "    \n",
    "    current = 25.e-12\n",
    "    time = 10.e-3\n",
    "    number_of_input_ions = current * time / e * np.ones(np.shape(radius))\n",
    "    number_of_input_ions_low = 2.5e-12 * time / e * np.ones(np.shape(radius))\n",
    "        \n",
    "    ax = fig.add_axes(pos)\n",
    "    \n",
    "    # cable model\n",
    "    ax.plot(radius, total_number_of_ions, color='darkred', label='total charge')\n",
    "    ax.plot(radius, number_of_free_ions, color='steelblue', label='free charge')\n",
    "    ax.plot(radius, number_of_sodium_ions, color='forestgreen', label='sodium')\n",
    "    ax.plot(radius, number_of_capacitor_ions, color='gold', label='capacitor')\n",
    "    ax.plot(radius, number_of_input_ions, color='darkorchid', label='25pA * 10ms')\n",
    "    ax.plot(radius, number_of_input_ions_low, color='k', label='2.5pA * 10ms')\n",
    "    # end cable model\n",
    "    \n",
    "    ax.legend(loc='upper left', frameon=True, fontsize=8, ncol=2,)\n",
    "    \n",
    "    ax.set_xscale('log')\n",
    "    ax.set_yscale('log')\n",
    "    \n",
    "     # labels \n",
    "    ax.set_xlabel('radius [m]', fontsize=8)\n",
    "    ax.set_ylabel('number of elementary charges', fontsize=8)\n",
    "    \n",
    "    ax.set_xticks([5.e-8, 1.e-7, 5.e-7])\n",
    "    ax.set_xticklabels([r'$5\\cdot10^{-8}$',r'$1\\cdot10^{-7}$',r'$5\\cdot10^{-7}$'], fontsize=8)\n",
    "    ax.tick_params('both', labelsize=8)\n",
    "\n",
    "    # style\n",
    "    ax.spines['top'].set_visible(False)\n",
    "    ax.spines['right'].set_visible(False)\n",
    "    \n",
    "    ax.grid()\n",
    "    \n",
    "    \n",
    "fig = plt.figure(figsize=(4,3), dpi=300)\n",
    "pos = [0,0,1,1]\n",
    "number_of_charges_vs_radius(fig, pos)\n",
    "plt.show()\n",
    "\n"
   ]
  },
  {
   "cell_type": "code",
   "execution_count": null,
   "id": "18279b65",
   "metadata": {},
   "outputs": [],
   "source": []
  }
 ],
 "metadata": {
  "kernelspec": {
   "display_name": "Python 3 (ipykernel)",
   "language": "python",
   "name": "python3"
  },
  "language_info": {
   "codemirror_mode": {
    "name": "ipython",
    "version": 3
   },
   "file_extension": ".py",
   "mimetype": "text/x-python",
   "name": "python",
   "nbconvert_exporter": "python",
   "pygments_lexer": "ipython3",
   "version": "3.9.7"
  }
 },
 "nbformat": 4,
 "nbformat_minor": 5
}
