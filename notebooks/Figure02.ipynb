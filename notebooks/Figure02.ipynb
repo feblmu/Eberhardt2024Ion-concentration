{
 "cells": [
  {
   "cell_type": "code",
   "execution_count": null,
   "id": "1c7dbb29-6d25-4b0f-b1fc-38e176c0a00d",
   "metadata": {},
   "outputs": [],
   "source": [
    "import matplotlib.pyplot as plt\n",
    "import numpy as np\n",
    "\n",
    "from sys import path\n",
    "#path.append('./../spineSimulator/')\n",
    "#import plot\n",
    "#from simulation_parameters import simulation_parameters\n",
    "\n",
    "path.append('./../')\n",
    "import spineSimulator\n",
    "from spineSimulator import plot\n",
    "from spineSimulator.simulation_parameters import simulation_parameters\n",
    "\n",
    "#from importlib import reload\n",
    "#reload(plot)"
   ]
  },
  {
   "cell_type": "code",
   "execution_count": null,
   "id": "5e33d316-9ba0-403c-aab6-13e90486d4f4",
   "metadata": {},
   "outputs": [],
   "source": [
    "# text rendering with LaTex\n",
    "#plt.rc('text', usetex=True)\n",
    "#plt.rc('font', family='sans')"
   ]
  },
  {
   "cell_type": "code",
   "execution_count": null,
   "id": "d92f98a6-b072-4dec-a0de-9aee0dd3bd53",
   "metadata": {},
   "outputs": [],
   "source": [
    "# equal diffusion\n",
    "fig = plt.figure(dpi=300, figsize=(6.8,9))\n",
    "margin_left = 0.03\n",
    "dx = 0.05\n",
    "n_columns = 5\n",
    "\n",
    "plot.axs_head_overview(fig, column=1, n_columns=n_columns, file_id_list=['experiment_1', 'experiment_11','experiment_12',], make_y_label=True, margin_left=margin_left)\n",
    "plot.axs_head_overview(fig, column=2, n_columns=n_columns, file_id_list=['experiment_28','experiment_29','experiment_30',], make_y_label=False, margin_left=margin_left, text='small head\\nthin neck')\n",
    "plot.axs_head_overview(fig, column=3, n_columns=n_columns, file_id_list=['experiment_19','experiment_20','experiment_21',], make_y_label=False, margin_left=margin_left, text='small head\\nwide neck')    \n",
    "plot.axs_head_overview(fig, column=4, n_columns=n_columns, file_id_list=['experiment_16','experiment_17','experiment_18',], make_y_label=False, margin_left=margin_left, text='large head\\nwide neck')    \n",
    "plot.axs_head_overview(fig, column=5, n_columns=n_columns, file_id_list=['experiment_31','experiment_32','experiment_33',], make_y_label=False, margin_left=margin_left, text='large head\\nthin neck')    \n",
    "\n",
    "wx = (1. - n_columns * dx - 0.5 * dx - margin_left) / n_columns\n",
    "x_text = [margin_left+dx + 0.5 * wx + (wx + dx) * column for column in range(6)]\n",
    "\n",
    "fig.text(x_text[0], 0.95, 'Spine A', fontsize=12, horizontalalignment='center')\n",
    "fig.text(x_text[1], 0.95, 'Spine B', fontsize=12, horizontalalignment='center')\n",
    "fig.text(x_text[2], 0.95, 'Spine C', fontsize=12, horizontalalignment='center')\n",
    "fig.text(x_text[3], 0.95, 'Spine D', fontsize=12, horizontalalignment='center')\n",
    "fig.text(x_text[4], 0.95, 'Spine E', fontsize=12, horizontalalignment='center')\n",
    "\n",
    "plt.savefig('./../../../PaperSpineElectrodiffusion/figures/cable/Figure02.eps')\n",
    "plt.savefig('./../../../PaperSpineElectrodiffusion/figures/cable/Figure02.png')\n",
    "plt.savefig('./../../../PaperSpineElectrodiffusion/figures/cable/Figure02.tif')\n",
    "\n",
    "plt.show()"
   ]
  },
  {
   "cell_type": "markdown",
   "id": "d005b0d2-fbc9-4ed2-8f52-d4d44cdc298a",
   "metadata": {},
   "source": [
    "# Figure 2\n",
    "    Membrane voltage, and ion concentrations in the spine head for different spines. Input current lasts 10 ms and is carried by sodium ions.\n",
    "    Spine A)\n",
    "    Spine B)\n",
    "    Spine C)\n",
    "    Spine D)\n",
    "    Spine E)\n",
    "    Spine F) Parmeters taken from Lagache et al. 2019. Diffusion constant for sodium, potassium and chlorid is indentical. Concentration of chloride is 150 mmol. In A-E) sodium diffusivity is reduced compared to potassium and chloride. Input resistance of spine drops instead of increases"
   ]
  },
  {
   "cell_type": "code",
   "execution_count": null,
   "id": "3b9f021f-55a1-4ffc-99a9-0ae7517c0c73",
   "metadata": {},
   "outputs": [],
   "source": [
    "# equal diffusion\n",
    "fig = plt.figure(dpi=300, figsize=(6.8,9))\n",
    "margin_left = 0.03\n",
    "dx = 0.05\n",
    "n_columns = 5\n",
    "\n",
    "plot.axs_head_overview(fig, column=1, n_columns=n_columns, file_id_list=['experiment_25','experiment_26','experiment_27',], make_y_label=True, margin_left=margin_left)\n",
    "plot.axs_head_overview(fig, column=2, n_columns=n_columns, file_id_list=['experiment_56','experiment_57','experiment_58',], make_y_label=False, margin_left=margin_left, text='small head\\nthin neck')\n",
    "plot.axs_head_overview(fig, column=3, n_columns=n_columns, file_id_list=['experiment_62','experiment_63','experiment_64',], make_y_label=False, margin_left=margin_left, text='small head\\nwide neck')    \n",
    "plot.axs_head_overview(fig, column=4, n_columns=n_columns, file_id_list=['experiment_59','experiment_60','experiment_61',], make_y_label=False, margin_left=margin_left, text='large head\\nwide neck')    \n",
    "plot.axs_head_overview(fig, column=5, n_columns=n_columns, file_id_list=['experiment_65','experiment_66','experiment_67',], make_y_label=False, margin_left=margin_left, text='large head\\nthin neck')    \n",
    "\n",
    "wx = (1. - n_columns * dx - 0.5 * dx - margin_left) / n_columns\n",
    "x_text = [margin_left+dx + 0.5 * wx + (wx + dx) * column for column in range(n_columns)]\n",
    "\n",
    "fig.text(x_text[0], 0.95, 'Spine A', fontsize=12, horizontalalignment='center')\n",
    "fig.text(x_text[1], 0.95, 'Spine B', fontsize=12, horizontalalignment='center')\n",
    "fig.text(x_text[2], 0.95, 'Spine C', fontsize=12, horizontalalignment='center')\n",
    "fig.text(x_text[3], 0.95, 'Spine D', fontsize=12, horizontalalignment='center')\n",
    "fig.text(x_text[4], 0.95, 'Spine E', fontsize=12, horizontalalignment='center')\n",
    "\n",
    "plt.savefig('./../../../PaperSpineElectrodiffusion/figures/cable/Figure02_1.eps')\n",
    "plt.savefig('./../../../PaperSpineElectrodiffusion/figures/cable/Figure02_1.png')\n",
    "plt.savefig('./../../../PaperSpineElectrodiffusion/figures/cable/Figure02_2.tif')\n",
    "\n",
    "plt.show()\n"
   ]
  },
  {
   "cell_type": "code",
   "execution_count": null,
   "id": "72f0a133-7eec-4303-b5b1-8fc88844fe9d",
   "metadata": {},
   "outputs": [],
   "source": [
    "# equal diffusion\n",
    "fig = plt.figure(dpi=300, figsize=(6.8,9))\n",
    "margin_left = 0.03\n",
    "dx = 0.05\n",
    "n_columns = 5\n",
    "\n",
    "plot.axs_head_overview(fig, column=1, n_columns=n_columns, file_id_list=['experiment_53','experiment_54','experiment_55',], make_y_label=True, margin_left=margin_left, ylimpreset='2')\n",
    "plot.axs_head_overview(fig, column=2, n_columns=n_columns, file_id_list=['experiment_68','experiment_69','experiment_70',], make_y_label=False, margin_left=margin_left, ylimpreset='2', text='small head\\nthin neck')\n",
    "plot.axs_head_overview(fig, column=3, n_columns=n_columns, file_id_list=['experiment_74','experiment_75','experiment_76',], make_y_label=False, margin_left=margin_left, ylimpreset='2', text='small head\\nwide neck')    \n",
    "plot.axs_head_overview(fig, column=4, n_columns=n_columns, file_id_list=['experiment_71','experiment_72','experiment_73',], make_y_label=False, margin_left=margin_left, ylimpreset='2', text='large head\\nwide neck')    \n",
    "plot.axs_head_overview(fig, column=5, n_columns=n_columns, file_id_list=['experiment_77','experiment_78','experiment_79',], make_y_label=False, margin_left=margin_left, ylimpreset='2', text='large head\\nthin neck')    \n",
    "\n",
    "wx = (1. - n_columns * dx - 0.5 * dx - margin_left) / n_columns\n",
    "x_text = [margin_left+dx + 0.5 * wx + (wx + dx) * column for column in range(n_columns)]\n",
    "\n",
    "fig.text(x_text[0], 0.95, 'Spine A', fontsize=12, horizontalalignment='center')\n",
    "fig.text(x_text[1], 0.95, 'Spine B', fontsize=12, horizontalalignment='center')\n",
    "fig.text(x_text[2], 0.95, 'Spine C', fontsize=12, horizontalalignment='center')\n",
    "fig.text(x_text[3], 0.95, 'Spine D', fontsize=12, horizontalalignment='center')\n",
    "fig.text(x_text[4], 0.95, 'Spine E', fontsize=12, horizontalalignment='center')\n",
    "\n",
    "plt.savefig('./../../../PaperSpineElectrodiffusion/figures/cable/Figure02_2.eps')\n",
    "plt.savefig('./../../../PaperSpineElectrodiffusion/figures/cable/Figure02_2.png')\n",
    "plt.savefig('./../../../PaperSpineElectrodiffusion/figures/cable/Figure02_2.tif')\n",
    "\n",
    "plt.show()"
   ]
  },
  {
   "cell_type": "code",
   "execution_count": null,
   "id": "e9a23966-4927-4294-a15a-9845dfba2b6b",
   "metadata": {},
   "outputs": [],
   "source": []
  }
 ],
 "metadata": {
  "kernelspec": {
   "display_name": "Python 3 (ipykernel)",
   "language": "python",
   "name": "python3"
  },
  "language_info": {
   "codemirror_mode": {
    "name": "ipython",
    "version": 3
   },
   "file_extension": ".py",
   "mimetype": "text/x-python",
   "name": "python",
   "nbconvert_exporter": "python",
   "pygments_lexer": "ipython3",
   "version": "3.9.7"
  }
 },
 "nbformat": 4,
 "nbformat_minor": 5
}
